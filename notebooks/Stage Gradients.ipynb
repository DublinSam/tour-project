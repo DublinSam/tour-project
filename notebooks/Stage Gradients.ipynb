{
 "metadata": {
  "name": "",
  "signature": "sha256:e27cde6050442271d39e68d085f7695612ae15bbd97016d3a5573737f877f42c"
 },
 "nbformat": 3,
 "nbformat_minor": 0,
 "worksheets": [
  {
   "cells": [
    {
     "cell_type": "code",
     "collapsed": false,
     "input": [
      "from gradients import Stage"
     ],
     "language": "python",
     "metadata": {},
     "outputs": [],
     "prompt_number": 2
    },
    {
     "cell_type": "markdown",
     "metadata": {},
     "source": [
      "Load the chosen stage"
     ]
    },
    {
     "cell_type": "code",
     "collapsed": false,
     "input": [
      "stage = Stage(13)"
     ],
     "language": "python",
     "metadata": {},
     "outputs": [],
     "prompt_number": 20
    },
    {
     "cell_type": "markdown",
     "metadata": {},
     "source": [
      "Calculate the gradient at that position in the stage, in this case Cote de la Pomparie"
     ]
    },
    {
     "cell_type": "code",
     "collapsed": false,
     "input": [
      "location = 156.5 # distance through stage (km)\n",
      "climb_length = 2.8 # (km)"
     ],
     "language": "python",
     "metadata": {},
     "outputs": [],
     "prompt_number": 29
    },
    {
     "cell_type": "markdown",
     "metadata": {},
     "source": [
      "Use the `gradient` function to calculate the slope in degrees:"
     ]
    },
    {
     "cell_type": "code",
     "collapsed": false,
     "input": [
      "gradient = stage.gradient(location, climb_length)\n",
      "print(\"The calculated gradient of the climb is: \", gradient, \" degrees\")"
     ],
     "language": "python",
     "metadata": {},
     "outputs": [
      {
       "output_type": "stream",
       "stream": "stdout",
       "text": [
        "The calculated gradient of the climb is:  6.05311840918  degrees\n"
       ]
      }
     ],
     "prompt_number": 30
    },
    {
     "cell_type": "markdown",
     "metadata": {},
     "source": [
      "For comparison, the registered gradient of the climb with letour.com is 5.8 degrees"
     ]
    }
   ],
   "metadata": {}
  }
 ]
}