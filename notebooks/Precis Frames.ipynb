{
 "cells": [
  {
   "cell_type": "markdown",
   "metadata": {},
   "source": [
    "#2014"
   ]
  },
  {
   "cell_type": "markdown",
   "metadata": {},
   "source": [
    "The goal of this script is to extract snapshots from the sports footage at a one second interval.  These snapshots are used as a \"precis\", and can then be used to discard irrelevant parts of the footage."
   ]
  },
  {
   "cell_type": "code",
   "execution_count": 26,
   "metadata": {
    "collapsed": false
   },
   "outputs": [
    {
     "name": "stdout",
     "output_type": "stream",
     "text": [
      "The autoreload extension is already loaded. To reload it, use:\n",
      "  %reload_ext autoreload\n"
     ]
    }
   ],
   "source": [
    "%load_ext autoreload\n",
    "%autoreload 2"
   ]
  },
  {
   "cell_type": "code",
   "execution_count": 27,
   "metadata": {
    "collapsed": false
   },
   "outputs": [],
   "source": [
    "from precis import take_precis_snapshots"
   ]
  },
  {
   "cell_type": "code",
   "execution_count": 28,
   "metadata": {
    "collapsed": true
   },
   "outputs": [],
   "source": [
    "root_path = '/Users/samuelalbanie/aims_course/project_two/code/DVD/deinterlaced/2014/'"
   ]
  },
  {
   "cell_type": "markdown",
   "metadata": {},
   "source": [
    "The first step is to take a snapshot at every second in the footage:"
   ]
  },
  {
   "cell_type": "code",
   "execution_count": 30,
   "metadata": {
    "collapsed": false
   },
   "outputs": [
    {
     "ename": "CalledProcessError",
     "evalue": "Command '('grep', 'height\\\\|width')' returned non-zero exit status 1",
     "output_type": "error",
     "traceback": [
      "\u001b[0;31m---------------------------------------------------------------------------\u001b[0m",
      "\u001b[0;31mCalledProcessError\u001b[0m                        Traceback (most recent call last)",
      "\u001b[0;32m<ipython-input-30-3ea7ee25e087>\u001b[0m in \u001b[0;36m<module>\u001b[0;34m()\u001b[0m\n\u001b[1;32m      1\u001b[0m \u001b[0mstage\u001b[0m \u001b[0;34m=\u001b[0m \u001b[0;36m9\u001b[0m\u001b[0;34m\u001b[0m\u001b[0m\n\u001b[1;32m      2\u001b[0m \u001b[0mstage_id\u001b[0m \u001b[0;34m=\u001b[0m \u001b[0mstr\u001b[0m\u001b[0;34m(\u001b[0m\u001b[0mstage\u001b[0m\u001b[0;34m)\u001b[0m\u001b[0;34m\u001b[0m\u001b[0m\n\u001b[0;32m----> 3\u001b[0;31m \u001b[0mtake_precis_snapshots\u001b[0m\u001b[0;34m(\u001b[0m\u001b[0mroot_path\u001b[0m\u001b[0;34m,\u001b[0m \u001b[0mstage_id\u001b[0m\u001b[0;34m=\u001b[0m\u001b[0mstage_id\u001b[0m\u001b[0;34m,\u001b[0m \u001b[0mDAR\u001b[0m\u001b[0;34m=\u001b[0m\u001b[0;36m16.0\u001b[0m\u001b[0;34m/\u001b[0m\u001b[0;36m9.0\u001b[0m\u001b[0;34m)\u001b[0m\u001b[0;34m\u001b[0m\u001b[0m\n\u001b[0m",
      "\u001b[0;32m/Users/samuelalbanie/aims_course/project_two/code/tour_data/project_tools/snapshots/precis.pyc\u001b[0m in \u001b[0;36mtake_precis_snapshots\u001b[0;34m(root_path, stage_id, DAR)\u001b[0m\n\u001b[1;32m     17\u001b[0m     \u001b[0msrc_video\u001b[0m \u001b[0;34m=\u001b[0m \u001b[0mpaths\u001b[0m\u001b[0;34m[\u001b[0m\u001b[0;34m'src_video'\u001b[0m\u001b[0;34m]\u001b[0m\u001b[0;34m\u001b[0m\u001b[0m\n\u001b[1;32m     18\u001b[0m     \u001b[0mtarget_dir\u001b[0m \u001b[0;34m=\u001b[0m \u001b[0mpaths\u001b[0m\u001b[0;34m[\u001b[0m\u001b[0;34m'precis'\u001b[0m\u001b[0;34m]\u001b[0m\u001b[0;34m\u001b[0m\u001b[0m\n\u001b[0;32m---> 19\u001b[0;31m     \u001b[0mdar_dims\u001b[0m \u001b[0;34m=\u001b[0m \u001b[0mget_dar_dimensions\u001b[0m\u001b[0;34m(\u001b[0m\u001b[0msrc_video\u001b[0m\u001b[0;34m,\u001b[0m \u001b[0mDAR\u001b[0m\u001b[0;34m=\u001b[0m\u001b[0mDAR\u001b[0m\u001b[0;34m)\u001b[0m\u001b[0;34m\u001b[0m\u001b[0m\n\u001b[0m\u001b[1;32m     20\u001b[0m     \u001b[0mtimes\u001b[0m \u001b[0;34m=\u001b[0m \u001b[0mformatted_times_in_video\u001b[0m\u001b[0;34m(\u001b[0m\u001b[0msrc_video\u001b[0m\u001b[0;34m)\u001b[0m\u001b[0;34m\u001b[0m\u001b[0m\n\u001b[1;32m     21\u001b[0m     \u001b[0;32mif\u001b[0m \u001b[0;32mnot\u001b[0m \u001b[0mos\u001b[0m\u001b[0;34m.\u001b[0m\u001b[0mpath\u001b[0m\u001b[0;34m.\u001b[0m\u001b[0mexists\u001b[0m\u001b[0;34m(\u001b[0m\u001b[0mtarget_dir\u001b[0m\u001b[0;34m)\u001b[0m\u001b[0;34m:\u001b[0m\u001b[0;34m\u001b[0m\u001b[0m\n",
      "\u001b[0;32m/Users/samuelalbanie/aims_course/project_two/code/tour_data/project_tools/utils/snapshot_utils.pyc\u001b[0m in \u001b[0;36mget_dar_dimensions\u001b[0;34m(src_video, DAR)\u001b[0m\n\u001b[1;32m     64\u001b[0m \u001b[0;34m\u001b[0m\u001b[0m\n\u001b[1;32m     65\u001b[0m \u001b[0;32mdef\u001b[0m \u001b[0mget_dar_dimensions\u001b[0m\u001b[0;34m(\u001b[0m\u001b[0msrc_video\u001b[0m\u001b[0;34m,\u001b[0m \u001b[0mDAR\u001b[0m \u001b[0;34m=\u001b[0m \u001b[0;34m(\u001b[0m\u001b[0;36m16.0\u001b[0m \u001b[0;34m/\u001b[0m \u001b[0;36m9.0\u001b[0m\u001b[0;34m)\u001b[0m\u001b[0;34m)\u001b[0m\u001b[0;34m:\u001b[0m\u001b[0;34m\u001b[0m\u001b[0m\n\u001b[0;32m---> 66\u001b[0;31m     \u001b[0msar_dimensions\u001b[0m \u001b[0;34m=\u001b[0m \u001b[0mget_frame_dims\u001b[0m\u001b[0;34m(\u001b[0m\u001b[0msrc_video\u001b[0m\u001b[0;34m)\u001b[0m\u001b[0;34m\u001b[0m\u001b[0m\n\u001b[0m\u001b[1;32m     67\u001b[0m     dar_dimensions = {'width': sar_dimensions['height'] * DAR, \n\u001b[1;32m     68\u001b[0m                   'height': sar_dimensions['height']}\n",
      "\u001b[0;32m/Users/samuelalbanie/aims_course/project_two/code/tour_data/project_tools/utils/snapshot_utils.pyc\u001b[0m in \u001b[0;36mget_frame_dims\u001b[0;34m(input)\u001b[0m\n\u001b[1;32m     40\u001b[0m                                 stderr=subprocess.STDOUT)\n\u001b[1;32m     41\u001b[0m     data_msg = subprocess.check_output(('grep', 'height\\|width'), \n\u001b[0;32m---> 42\u001b[0;31m                                     stdin=data_ps.stdout)\n\u001b[0m\u001b[1;32m     43\u001b[0m     \u001b[0mmsg\u001b[0m \u001b[0;34m=\u001b[0m \u001b[0mclean_msg\u001b[0m\u001b[0;34m(\u001b[0m\u001b[0mdata_msg\u001b[0m\u001b[0;34m)\u001b[0m\u001b[0;34m\u001b[0m\u001b[0m\n\u001b[1;32m     44\u001b[0m     \u001b[0mdims\u001b[0m \u001b[0;34m=\u001b[0m \u001b[0mmsg\u001b[0m\u001b[0;34m[\u001b[0m\u001b[0;34m:\u001b[0m\u001b[0;34m-\u001b[0m\u001b[0;36m1\u001b[0m\u001b[0;34m]\u001b[0m\u001b[0;34m.\u001b[0m\u001b[0msplit\u001b[0m\u001b[0;34m(\u001b[0m\u001b[0;34m','\u001b[0m\u001b[0;34m)\u001b[0m \u001b[0;31m# remove trailing comma before splitting\u001b[0m\u001b[0;34m\u001b[0m\u001b[0m\n",
      "\u001b[0;32m/System/Library/Frameworks/Python.framework/Versions/2.7/lib/python2.7/subprocess.pyc\u001b[0m in \u001b[0;36mcheck_output\u001b[0;34m(*popenargs, **kwargs)\u001b[0m\n\u001b[1;32m    571\u001b[0m         \u001b[0;32mif\u001b[0m \u001b[0mcmd\u001b[0m \u001b[0;32mis\u001b[0m \u001b[0mNone\u001b[0m\u001b[0;34m:\u001b[0m\u001b[0;34m\u001b[0m\u001b[0m\n\u001b[1;32m    572\u001b[0m             \u001b[0mcmd\u001b[0m \u001b[0;34m=\u001b[0m \u001b[0mpopenargs\u001b[0m\u001b[0;34m[\u001b[0m\u001b[0;36m0\u001b[0m\u001b[0;34m]\u001b[0m\u001b[0;34m\u001b[0m\u001b[0m\n\u001b[0;32m--> 573\u001b[0;31m         \u001b[0;32mraise\u001b[0m \u001b[0mCalledProcessError\u001b[0m\u001b[0;34m(\u001b[0m\u001b[0mretcode\u001b[0m\u001b[0;34m,\u001b[0m \u001b[0mcmd\u001b[0m\u001b[0;34m,\u001b[0m \u001b[0moutput\u001b[0m\u001b[0;34m=\u001b[0m\u001b[0moutput\u001b[0m\u001b[0;34m)\u001b[0m\u001b[0;34m\u001b[0m\u001b[0m\n\u001b[0m\u001b[1;32m    574\u001b[0m     \u001b[0;32mreturn\u001b[0m \u001b[0moutput\u001b[0m\u001b[0;34m\u001b[0m\u001b[0m\n\u001b[1;32m    575\u001b[0m \u001b[0;34m\u001b[0m\u001b[0m\n",
      "\u001b[0;31mCalledProcessError\u001b[0m: Command '('grep', 'height\\\\|width')' returned non-zero exit status 1"
     ]
    }
   ],
   "source": [
    "stage = 9\n",
    "stage_id = str(stage)\n",
    "take_precis_snapshots(root_path, stage_id=stage_id, DAR=16.0/9.0)"
   ]
  },
  {
   "cell_type": "code",
   "execution_count": 29,
   "metadata": {
    "collapsed": false
   },
   "outputs": [
    {
     "name": "stdout",
     "output_type": "stream",
     "text": [
      "('stage completed: ', '9')\n"
     ]
    }
   ],
   "source": [
    "for stage in range(4,7):\n",
    "    stage_id = str(stage)\n",
    "    try:\n",
    "        take_precis_snapshots(root_path, stage_id=stage_id, DAR=16.0/9.0)\n",
    "    except:\n",
    "        pass\n",
    "    print('stage completed: ', stage_id)"
   ]
  },
  {
   "cell_type": "code",
   "execution_count": 24,
   "metadata": {
    "collapsed": false
   },
   "outputs": [
    {
     "name": "stdout",
     "output_type": "stream",
     "text": [
      "('sar dimensions', {'width': 720, 'height': 576})\n",
      "('dar dimensions', {'width': 1024.0, 'height': 576})\n",
      "('stage completed: ', '10')\n",
      "('sar dimensions', {'width': 720, 'height': 576})\n",
      "('dar dimensions', {'width': 1024.0, 'height': 576})\n",
      "('stage completed: ', '11')\n",
      "('sar dimensions', {'width': 720, 'height': 576})\n",
      "('dar dimensions', {'width': 1024.0, 'height': 576})\n",
      "('stage completed: ', '12')\n",
      "('sar dimensions', {'width': 720, 'height': 576})\n",
      "('dar dimensions', {'width': 1024.0, 'height': 576})\n",
      "('stage completed: ', '13')\n",
      "('sar dimensions', {'width': 720, 'height': 576})\n",
      "('dar dimensions', {'width': 1024.0, 'height': 576})\n",
      "('stage completed: ', '14')\n",
      "('sar dimensions', {'width': 720, 'height': 576})\n",
      "('dar dimensions', {'width': 1024.0, 'height': 576})\n",
      "('stage completed: ', '15')\n",
      "('sar dimensions', {'width': 720, 'height': 576})\n",
      "('dar dimensions', {'width': 1024.0, 'height': 576})\n",
      "('stage completed: ', '16')\n",
      "('sar dimensions', {'width': 720, 'height': 576})\n",
      "('dar dimensions', {'width': 1024.0, 'height': 576})\n",
      "('stage completed: ', '17')\n",
      "('sar dimensions', {'width': 720, 'height': 576})\n",
      "('dar dimensions', {'width': 1024.0, 'height': 576})\n",
      "('stage completed: ', '18')\n",
      "('sar dimensions', {'width': 720, 'height': 576})\n",
      "('dar dimensions', {'width': 1024.0, 'height': 576})\n",
      "('stage completed: ', '19')\n"
     ]
    }
   ],
   "source": [
    "for stage in range(10,20):\n",
    "    stage_id = str(stage)\n",
    "    take_precis_snapshots(root_path, stage_id=stage_id, DAR=16.0/9.0)\n",
    "    print('stage completed: ', stage_id)"
   ]
  },
  {
   "cell_type": "code",
   "execution_count": 25,
   "metadata": {
    "collapsed": false
   },
   "outputs": [
    {
     "name": "stdout",
     "output_type": "stream",
     "text": [
      "('sar dimensions', {'width': 720, 'height': 576})\n",
      "('dar dimensions', {'width': 1024.0, 'height': 576})\n",
      "('stage completed: ', '21')\n"
     ]
    }
   ],
   "source": [
    "stage_id = str(21)\n",
    "take_precis_snapshots(root_path, stage_id=stage_id, DAR=16.0/9.0)\n",
    "print('stage completed: ', stage_id)"
   ]
  },
  {
   "cell_type": "code",
   "execution_count": null,
   "metadata": {
    "collapsed": true
   },
   "outputs": [],
   "source": []
  }
 ],
 "metadata": {
  "kernelspec": {
   "display_name": "Python 2",
   "language": "python",
   "name": "python2"
  },
  "language_info": {
   "codemirror_mode": {
    "name": "ipython",
    "version": 2
   },
   "file_extension": ".py",
   "mimetype": "text/x-python",
   "name": "python",
   "nbconvert_exporter": "python",
   "pygments_lexer": "ipython2",
   "version": "2.7.10"
  }
 },
 "nbformat": 4,
 "nbformat_minor": 0
}
